{
 "cells": [
  {
   "cell_type": "markdown",
   "metadata": {},
   "source": [
    "The ipython notebook is great to interactively play around with some things. Feedback is immediate and directly in front of you.\n",
    "\n",
    "Once settled on a model / specification, you can just export the code and use it in the \"normal\" workflow."
   ]
  },
  {
   "cell_type": "code",
   "execution_count": null,
   "metadata": {
    "collapsed": false
   },
   "outputs": [],
   "source": [
    "# Do not delete this cell. It ensures that you can do the imports,\n",
    "# load datasets etc. in the same fashion as in any Python script\n",
    "# in the project template.\n",
    "\n",
    "%matplotlib inline\n",
    "\n",
    "import sys\n",
    "sys.path.insert(0, '../..')\n",
    "from bld.project_paths import project_paths_join as ppj"
   ]
  },
  {
   "cell_type": "code",
   "execution_count": null,
   "metadata": {
    "collapsed": false
   },
   "outputs": [],
   "source": [
    "import pandas as pd\n",
    "from matplotlib import pyplot as plt"
   ]
  },
  {
   "cell_type": "code",
   "execution_count": null,
   "metadata": {
    "collapsed": false
   },
   "outputs": [],
   "source": [
    "from src.analysis.schelling import setup_agents"
   ]
  },
  {
   "cell_type": "code",
   "execution_count": null,
   "metadata": {
    "collapsed": false
   },
   "outputs": [],
   "source": [
    "agents = setup_agents({\n",
    "    'n_types': 2,\n",
    "    'n_agents_by_type': [20, 10],\n",
    "    'n_neighbours': 5,\n",
    "    'require_same_type': 2,\n",
    "    'max_moves': 50\n",
    "})"
   ]
  },
  {
   "cell_type": "code",
   "execution_count": null,
   "metadata": {
    "collapsed": false
   },
   "outputs": [],
   "source": [
    "def sim_one_round():\n",
    "    someone_moved = False\n",
    "    for agent in agents:\n",
    "        old_location = agent.location\n",
    "        # If necessary, move around until happy\n",
    "        agent.move_until_happy(agents)\n",
    "        if not (agent.location == old_location).all():\n",
    "            someone_moved = True\n",
    "    return someone_moved"
   ]
  },
  {
   "cell_type": "code",
   "execution_count": null,
   "metadata": {
    "collapsed": false
   },
   "outputs": [],
   "source": [
    "locs_0 = pd.DataFrame(\n",
    "    [a.location for a in agents if a.type == 0],\n",
    "    columns=['x', 'y']\n",
    ")\n",
    "locs_1 = pd.DataFrame(\n",
    "    [a.location for a in agents if a.type == 1],\n",
    "    columns=['x', 'y']\n",
    ")\n",
    "ax = locs_0.plot(x='x', y='y', kind='scatter')\n",
    "ax.plot(locs_1['x'], locs_1['y'], \"o\", markerfacecolor=\"orange\")"
   ]
  },
  {
   "cell_type": "code",
   "execution_count": null,
   "metadata": {
    "collapsed": false
   },
   "outputs": [],
   "source": [
    "sim_one_round()"
   ]
  },
  {
   "cell_type": "code",
   "execution_count": null,
   "metadata": {
    "collapsed": false
   },
   "outputs": [],
   "source": []
  },
  {
   "cell_type": "code",
   "execution_count": null,
   "metadata": {
    "collapsed": true
   },
   "outputs": [],
   "source": []
  }
 ],
 "metadata": {
  "kernelspec": {
   "display_name": "Python 3",
   "language": "python",
   "name": "python3"
  },
  "language_info": {
   "codemirror_mode": {
    "name": "ipython",
    "version": 3
   },
   "file_extension": ".py",
   "mimetype": "text/x-python",
   "name": "python",
   "nbconvert_exporter": "python",
   "pygments_lexer": "ipython3",
   "version": "3.5.1"
  }
 },
 "nbformat": 4,
 "nbformat_minor": 0
}
