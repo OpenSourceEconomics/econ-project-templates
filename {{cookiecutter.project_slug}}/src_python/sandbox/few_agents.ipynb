{
 "cells": [
  {
   "cell_type": "markdown",
   "metadata": {},
   "source": [
    "The ipython notebook is great to interactively play around with some things. Feedback is immediate and directly in front of you.\n",
    "\n",
    "Once settled on a model / specification, you can just export the code and use it in the \"normal\" workflow."
   ]
  },
  {
   "cell_type": "code",
   "execution_count": 1,
   "metadata": {},
   "outputs": [],
   "source": [
    "# Do not delete this cell. It ensures that you can do the imports,\n",
    "# load datasets etc. in the same fashion as in any Python script\n",
    "# in the project template.\n",
    "# Typing \"conda develop .\" in the project root before starting \n",
    "# Jupyter has the same effect.\n",
    "\n",
    "import sys\n",
    "sys.path.insert(0, '../..')"
   ]
  },
  {
   "cell_type": "code",
   "execution_count": 2,
   "metadata": {},
   "outputs": [],
   "source": [
    "import numpy as np\n",
    "import pandas as pd\n",
    "import plotly.express as px\n",
    "\n",
    "from src.analysis.task_schelling import setup_agents"
   ]
  },
  {
   "cell_type": "code",
   "execution_count": 4,
   "metadata": {},
   "outputs": [
    {
     "ename": "TypeError",
     "evalue": "setup_agents() missing 1 required positional argument: 'initial_locations'",
     "output_type": "error",
     "traceback": [
      "\u001b[0;31m---------------------------------------------------------------------------\u001b[0m",
      "\u001b[0;31mTypeError\u001b[0m                                 Traceback (most recent call last)",
      "\u001b[0;32m/tmp/ipykernel_99247/1218600373.py\u001b[0m in \u001b[0;36m<module>\u001b[0;34m\u001b[0m\n\u001b[0;32m----> 1\u001b[0;31m agents = setup_agents({\n\u001b[0m\u001b[1;32m      2\u001b[0m     \u001b[0;34m'n_types'\u001b[0m\u001b[0;34m:\u001b[0m \u001b[0;36m2\u001b[0m\u001b[0;34m,\u001b[0m\u001b[0;34m\u001b[0m\u001b[0;34m\u001b[0m\u001b[0m\n\u001b[1;32m      3\u001b[0m     \u001b[0;34m'n_agents_by_type'\u001b[0m\u001b[0;34m:\u001b[0m \u001b[0;34m[\u001b[0m\u001b[0;36m20\u001b[0m\u001b[0;34m,\u001b[0m \u001b[0;36m10\u001b[0m\u001b[0;34m]\u001b[0m\u001b[0;34m,\u001b[0m\u001b[0;34m\u001b[0m\u001b[0;34m\u001b[0m\u001b[0m\n\u001b[1;32m      4\u001b[0m     \u001b[0;34m'n_neighbours'\u001b[0m\u001b[0;34m:\u001b[0m \u001b[0;36m5\u001b[0m\u001b[0;34m,\u001b[0m\u001b[0;34m\u001b[0m\u001b[0;34m\u001b[0m\u001b[0m\n\u001b[1;32m      5\u001b[0m     \u001b[0;34m'require_same_type'\u001b[0m\u001b[0;34m:\u001b[0m \u001b[0;36m2\u001b[0m\u001b[0;34m,\u001b[0m\u001b[0;34m\u001b[0m\u001b[0;34m\u001b[0m\u001b[0m\n",
      "\u001b[0;31mTypeError\u001b[0m: setup_agents() missing 1 required positional argument: 'initial_locations'"
     ]
    }
   ],
   "source": [
    "initial_locations = np.random.uniform(size=120_000)\n",
    "\n",
    "agents = setup_agents(\n",
    "    model = {\n",
    "    'n_types': 2,\n",
    "    'n_agents_by_type': [20, 10],\n",
    "    'n_neighbours': 5,\n",
    "    'require_same_type': 2,\n",
    "    'max_moves': 50\n",
    "    },\n",
    "    initial_locations=initial_locations\n",
    ")"
   ]
  },
  {
   "cell_type": "code",
   "execution_count": null,
   "metadata": {},
   "outputs": [],
   "source": [
    "def sim_one_round():\n",
    "    someone_moved = False\n",
    "    for agent in agents:\n",
    "        old_location = agent.location\n",
    "        # If necessary, move around until happy\n",
    "        agent.move_until_happy(agents)\n",
    "        if not (agent.location == old_location).all():\n",
    "            someone_moved = True\n",
    "    return someone_moved"
   ]
  },
  {
   "cell_type": "code",
   "execution_count": null,
   "metadata": {},
   "outputs": [],
   "source": [
    "locs_0 = pd.DataFrame(\n",
    "    [a.location for a in agents if a.type == 0],\n",
    "    columns=['x', 'y']\n",
    ")\n",
    "locs_1 = pd.DataFrame(\n",
    "    [a.location for a in agents if a.type == 1],\n",
    "    columns=['x', 'y']\n",
    ")\n",
    "\n",
    "locs = pd.concat(\n",
    "    objs=(locs_0, locs_1), \n",
    "    keys=[\"loc0\", \"loc1\"], \n",
    "    names=[\"type\", \"id\"]\n",
    ").reset_index()"
   ]
  },
  {
   "cell_type": "code",
   "execution_count": null,
   "metadata": {},
   "outputs": [],
   "source": [
    "fig = px.scatter(locs, x=\"x\", y=\"y\", color=\"type\")\n",
    "fig = fig.update_layout(template=\"simple_white\", showlegend=False)\n",
    "fig.show()"
   ]
  },
  {
   "cell_type": "code",
   "execution_count": null,
   "metadata": {},
   "outputs": [],
   "source": [
    "sim_one_round()"
   ]
  }
 ],
 "metadata": {
  "kernelspec": {
   "display_name": "Python 3 (ipykernel)",
   "language": "python",
   "name": "python3"
  },
  "language_info": {
   "codemirror_mode": {
    "name": "ipython",
    "version": 3
   },
   "file_extension": ".py",
   "mimetype": "text/x-python",
   "name": "python",
   "nbconvert_exporter": "python",
   "pygments_lexer": "ipython3",
   "version": "3.9.9"
  }
 },
 "nbformat": 4,
 "nbformat_minor": 1
}
